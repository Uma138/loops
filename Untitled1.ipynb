{
 "cells": [
  {
   "cell_type": "code",
   "execution_count": 1,
   "id": "3145140d-2497-4cb8-beb1-b1cf818c074a",
   "metadata": {},
   "outputs": [
    {
     "name": "stdin",
     "output_type": "stream",
     "text": [
      "enter the value of n: 7\n"
     ]
    },
    {
     "name": "stdout",
     "output_type": "stream",
     "text": [
      "2   4   6   8   10   12   14   16   18   20   22   24   26   28   30   32   34   36   38   40   42   44   46   48   50   "
     ]
    }
   ],
   "source": [
    "#print all the even numbers till 50 using while loop\n",
    "n=int(input(\"enter the value of n:\"))\n",
    "i=1\n",
    "while i<=50:\n",
    "    if i%2==0:\n",
    "      print(i,end='   ')\n",
    "    i+=1"
   ]
  },
  {
   "cell_type": "code",
   "execution_count": 3,
   "id": "98e9e3e7-b13b-4ef2-9944-e9607d71e223",
   "metadata": {},
   "outputs": [
    {
     "name": "stdin",
     "output_type": "stream",
     "text": [
      "enter the value of n: 1\n"
     ]
    },
    {
     "name": "stdout",
     "output_type": "stream",
     "text": [
      "1   3   5   7   9   11   13   15   17   19   21   23   25   27   29   31   33   35   37   39   41   43   45   47   49   "
     ]
    }
   ],
   "source": [
    "#print all the odd numbers till 50 using while loop\n",
    "n=int(input(\"enter the value of n:\"))\n",
    "i=1\n",
    "while i<=50:\n",
    "    if i%2==1:\n",
    "      print(i,end='   ')\n",
    "    i+=1"
   ]
  },
  {
   "cell_type": "code",
   "execution_count": 7,
   "id": "3c5b395f-d95f-4af0-ad6a-82bd61d92b19",
   "metadata": {},
   "outputs": [
    {
     "name": "stdout",
     "output_type": "stream",
     "text": [
      "the num is a multiple of 10\n"
     ]
    }
   ],
   "source": [
    "num=40\n",
    "if num%10==0:\n",
    "    print(\"the num is a multiple of 10\")"
   ]
  },
  {
   "cell_type": "code",
   "execution_count": 15,
   "id": "1f69aae0-d73c-4ba0-946b-477ec963a6ea",
   "metadata": {},
   "outputs": [
    {
     "name": "stdin",
     "output_type": "stream",
     "text": [
      "enter the number: 10\n"
     ]
    },
    {
     "name": "stdout",
     "output_type": "stream",
     "text": [
      "Total: 55\n"
     ]
    }
   ],
   "source": [
    "#print the sum of first n natural numbers n=10\n",
    "sum=0\n",
    "i=1\n",
    "n=int(input(\"enter the number:\"))\n",
    "while i<=n:\n",
    "    sum+=i\n",
    "    i+=1\n",
    "print(\"Total:\",sum)\n",
    "    "
   ]
  },
  {
   "cell_type": "code",
   "execution_count": 27,
   "id": "151123a7-d242-4614-ae7f-e72b4636d943",
   "metadata": {},
   "outputs": [
    {
     "name": "stdin",
     "output_type": "stream",
     "text": [
      "enter the value of n: 9\n"
     ]
    },
    {
     "name": "stdout",
     "output_type": "stream",
     "text": [
      "9  8  7  6  5  4  3  2  1  "
     ]
    }
   ],
   "source": [
    "#write a program to print reversw of n natural numbers n=5\n",
    "#output:5 4 3 2 1\n",
    "n=int(input(\"enter the value of n:\"))\n",
    "i=n\n",
    "while i>=1:\n",
    "    print(i,end='  ')\n",
    "    i-=1\n",
    "    "
   ]
  },
  {
   "cell_type": "code",
   "execution_count": 31,
   "id": "c1a979fb-eb7f-4d6d-94ac-8f38b72cb23a",
   "metadata": {},
   "outputs": [
    {
     "name": "stdin",
     "output_type": "stream",
     "text": [
      "enter the number: 9876\n"
     ]
    },
    {
     "name": "stdout",
     "output_type": "stream",
     "text": [
      "6789\n"
     ]
    }
   ],
   "source": [
    "#program to reverse a 4 digit number\n",
    "num=int(input(\"enter the number:\"))\n",
    "rev=0\n",
    "while num>0:\n",
    "    d=num%10\n",
    "    rev=rev*10+d\n",
    "    num//=10\n",
    "print(rev)"
   ]
  },
  {
   "cell_type": "code",
   "execution_count": null,
   "id": "fc16d9ac-4ad0-4cca-950b-83318d68a225",
   "metadata": {},
   "outputs": [],
   "source": []
  }
 ],
 "metadata": {
  "kernelspec": {
   "display_name": "Python [conda env:base] *",
   "language": "python",
   "name": "conda-base-py"
  },
  "language_info": {
   "codemirror_mode": {
    "name": "ipython",
    "version": 3
   },
   "file_extension": ".py",
   "mimetype": "text/x-python",
   "name": "python",
   "nbconvert_exporter": "python",
   "pygments_lexer": "ipython3",
   "version": "3.12.7"
  }
 },
 "nbformat": 4,
 "nbformat_minor": 5
}
