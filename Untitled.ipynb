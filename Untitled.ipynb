{
 "cells": [
  {
   "cell_type": "code",
   "execution_count": null,
   "id": "7a5eab46-45d7-4ccb-9fa6-c3454e3a63c4",
   "metadata": {},
   "outputs": [],
   "source": [
    "loop=0\n",
    "while loop<=10:\n",
    "    print(loop)\n",
    "    loop+=1"
   ]
  },
  {
   "cell_type": "code",
   "execution_count": 5,
   "id": "688c15a7-0ba6-434a-9bc7-d77f9aea0b9b",
   "metadata": {},
   "outputs": [
    {
     "name": "stdout",
     "output_type": "stream",
     "text": [
      "uma\n",
      "uma\n",
      "uma\n",
      "uma\n",
      "uma\n",
      "uma\n",
      "uma\n",
      "uma\n",
      "uma\n",
      "uma\n",
      "uma\n"
     ]
    }
   ],
   "source": [
    "loop=0\n",
    "while loop<=10:\n",
    "    print(\"uma\")\n",
    "    loop+=1"
   ]
  },
  {
   "cell_type": "code",
   "execution_count": 13,
   "id": "532e250d-e424-4ba0-8848-5733916645ee",
   "metadata": {},
   "outputs": [
    {
     "name": "stdout",
     "output_type": "stream",
     "text": [
      "chaitu   cricket   chaitu   cricket   chaitu   cricket   chaitu   cricket   chaitu   cricket   "
     ]
    }
   ],
   "source": [
    "loop=0\n",
    "while loop<5:\n",
    "    print('chaitu',end='   ')\n",
    "    print('cricket',end='   ')\n",
    "    loop+=1\n",
    "    \n",
    "    "
   ]
  },
  {
   "cell_type": "code",
   "execution_count": null,
   "id": "ffa95395-6343-4afe-b46d-e6f9fda6681b",
   "metadata": {},
   "outputs": [],
   "source": [
    "#print all the even numbers till 50 using while loop\n",
    "n=int(input(\"enter the value of n:\"))\n",
    "i=1\n",
    "while i<=50:\n",
    "    if i%2==0:\n",
    "      print(i,end='   ')\n",
    "    i+=1"
   ]
  },
  {
   "cell_type": "code",
   "execution_count": null,
   "id": "0d0e53b4-d05f-4e79-99e9-bec082922fee",
   "metadata": {},
   "outputs": [],
   "source": []
  }
 ],
 "metadata": {
  "kernelspec": {
   "display_name": "Python [conda env:base] *",
   "language": "python",
   "name": "conda-base-py"
  },
  "language_info": {
   "codemirror_mode": {
    "name": "ipython",
    "version": 3
   },
   "file_extension": ".py",
   "mimetype": "text/x-python",
   "name": "python",
   "nbconvert_exporter": "python",
   "pygments_lexer": "ipython3",
   "version": "3.12.7"
  }
 },
 "nbformat": 4,
 "nbformat_minor": 5
}
